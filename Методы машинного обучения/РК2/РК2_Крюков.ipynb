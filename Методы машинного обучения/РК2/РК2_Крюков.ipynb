{
  "cells": [
    {
      "cell_type": "markdown",
      "metadata": {
        "id": "-uplIV9LQT-1"
      },
      "source": [
        "# РК2\n",
        "### Крюков Геннадий ИУ5-21М\n",
        "### Номер по списку группы - 6\n",
        "\n",
        "#### Тема: Методы обработки текстов.\n",
        "\n",
        "#### Решение задачи классификации текстов.\n",
        "\n",
        "Необходимо решить задачу классификации текстов на основе любого выбранного Вами датасета (кроме примера, который рассматривался в лекции). Классификация может быть бинарной или многоклассовой. Целевой признак из выбранного Вами датасета может иметь любой физический смысл, примером является задача анализа тональности текста.\n",
        "\n",
        "Необходимо сформировать два варианта векторизации признаков - на основе CountVectorizer и на основе TfidfVectorizer.\n",
        "\n",
        "В качестве классификаторов необходимо использовать два классификатора по варианту для Вашей группы:\n",
        "\n",
        "##### ИУ5-21М - LogisticRegression, Multinomial Naive Bayes (MNB)\n"
      ]
    },
    {
      "cell_type": "code",
      "execution_count": null,
      "metadata": {
        "id": "dQOXyAC1QT-7"
      },
      "outputs": [],
      "source": [
        "import numpy as np\n",
        "import pandas as pd\n",
        "from typing import Dict, Tuple\n",
        "from sklearn.feature_extraction.text import CountVectorizer, TfidfVectorizer\n",
        "from sklearn.model_selection import GridSearchCV, RandomizedSearchCV\n",
        "from sklearn.metrics import accuracy_score, balanced_accuracy_score\n",
        "from sklearn.metrics import precision_score, recall_score, f1_score, classification_report\n",
        "from sklearn.metrics import confusion_matrix\n",
        "from sklearn.model_selection import cross_val_score\n",
        "from sklearn.pipeline import Pipeline\n",
        "from sklearn.metrics import mean_absolute_error, mean_squared_error, mean_squared_log_error, median_absolute_error, r2_score \n",
        "from sklearn.metrics import roc_curve, roc_auc_score\n",
        "from sklearn.naive_bayes import MultinomialNB\n",
        "from sklearn.linear_model import LogisticRegression\n",
        "import seaborn as sns\n",
        "from collections import Counter\n",
        "from sklearn.datasets import fetch_20newsgroups\n",
        "import matplotlib.pyplot as plt\n",
        "\n",
        "%matplotlib inline \n",
        "sns.set(style=\"ticks\")"
      ]
    },
    {
      "cell_type": "code",
      "execution_count": null,
      "metadata": {
        "id": "JHzKyzrLQT-9"
      },
      "outputs": [],
      "source": [
        "categories = [\"rec.motorcycles\", \"rec.sport.baseball\", \"sci.electronics\",\"sci.med\"]\n",
        "newsgroups = fetch_20newsgroups(subset='train', categories=categories)\n",
        "data = newsgroups['data']"
      ]
    },
    {
      "cell_type": "code",
      "execution_count": null,
      "metadata": {
        "id": "0jwceVSLQT--"
      },
      "outputs": [],
      "source": [
        "def accuracy_score_for_classes(\n",
        "    y_true: np.ndarray, \n",
        "    y_pred: np.ndarray) -> Dict[int, float]:\n",
        "    \"\"\"\n",
        "    Вычисление метрики accuracy для каждого класса\n",
        "    y_true - истинные значения классов\n",
        "    y_pred - предсказанные значения классов\n",
        "    Возвращает словарь: ключ - метка класса, \n",
        "    значение - Accuracy для данного класса\n",
        "    \"\"\"\n",
        "    # Для удобства фильтрации сформируем Pandas DataFrame \n",
        "    d = {'t': y_true, 'p': y_pred}\n",
        "    df = pd.DataFrame(data=d)\n",
        "    # Метки классов\n",
        "    classes = np.unique(y_true)\n",
        "    # Результирующий словарь\n",
        "    res = dict()\n",
        "    # Перебор меток классов\n",
        "    for c in classes:\n",
        "        # отфильтруем данные, которые соответствуют \n",
        "        # текущей метке класса в истинных значениях\n",
        "        temp_data_flt = df[df['t']==c]\n",
        "        # расчет accuracy для заданной метки класса\n",
        "        temp_acc = accuracy_score(\n",
        "            temp_data_flt['t'].values, \n",
        "            temp_data_flt['p'].values)\n",
        "        # сохранение результата в словарь\n",
        "        res[c] = temp_acc\n",
        "    return res\n",
        "\n",
        "def print_accuracy_score_for_classes(\n",
        "    y_true: np.ndarray, \n",
        "    y_pred: np.ndarray):\n",
        "    \"\"\"\n",
        "    Вывод метрики accuracy для каждого класса\n",
        "    \"\"\"\n",
        "    accs = accuracy_score_for_classes(y_true, y_pred)\n",
        "    if len(accs)>0:\n",
        "        print('Метка \\t Accuracy')\n",
        "    for i in accs:\n",
        "        print('{} \\t {}'.format(i, accs[i]))"
      ]
    },
    {
      "cell_type": "code",
      "execution_count": null,
      "metadata": {
        "id": "wp1NPkSXQT-_",
        "outputId": "88918590-bc38-48e3-b1c4-5e1ec53209d7"
      },
      "outputs": [
        {
          "name": "stdout",
          "output_type": "stream",
          "text": [
            "Количество сформированных признаков - 33448\n"
          ]
        }
      ],
      "source": [
        "vocabVect = CountVectorizer()\n",
        "vocabVect.fit(data)\n",
        "corpusVocab = vocabVect.vocabulary_\n",
        "print('Количество сформированных признаков - {}'.format(len(corpusVocab)))"
      ]
    },
    {
      "cell_type": "code",
      "execution_count": null,
      "metadata": {
        "id": "bYYIEF-bQT_B",
        "outputId": "6b736ee3-6ca2-40ea-e21c-60821ecc65ae"
      },
      "outputs": [
        {
          "name": "stdout",
          "output_type": "stream",
          "text": [
            "nrmendel=22213\n",
            "unix=31462\n",
            "amherst=5287\n",
            "edu=12444\n",
            "nathaniel=21624\n",
            "mendell=20477\n",
            "subject=29220\n",
            "re=25369\n",
            "bike=6898\n"
          ]
        }
      ],
      "source": [
        "for i in list(corpusVocab)[1:10]:\n",
        "    print('{}={}'.format(i, corpusVocab[i]))"
      ]
    },
    {
      "cell_type": "code",
      "execution_count": null,
      "metadata": {
        "id": "d8-FZlq5QT_C",
        "outputId": "b7048dad-36f9-430b-e0e1-d994e43e19b2"
      },
      "outputs": [
        {
          "data": {
            "text/plain": [
              "<2380x33448 sparse matrix of type '<class 'numpy.int64'>'\n",
              "\twith 335176 stored elements in Compressed Sparse Row format>"
            ]
          },
          "execution_count": 16,
          "metadata": {},
          "output_type": "execute_result"
        }
      ],
      "source": [
        "test_features = vocabVect.transform(data)\n",
        "test_features"
      ]
    },
    {
      "cell_type": "code",
      "execution_count": null,
      "metadata": {
        "id": "cRQBosJPQT_C",
        "outputId": "6dde9d3b-69a0-4d1d-db31-648bf48b6ddf"
      },
      "outputs": [
        {
          "data": {
            "text/plain": [
              "33448"
            ]
          },
          "execution_count": 17,
          "metadata": {},
          "output_type": "execute_result"
        }
      ],
      "source": [
        "# Размер нулевой строки\n",
        "len(test_features.todense()[0].getA1())"
      ]
    },
    {
      "cell_type": "code",
      "execution_count": null,
      "metadata": {
        "id": "d9-7ZLPVQT_D",
        "outputId": "f3f7913f-af65-472c-b998-927ac519c7c1"
      },
      "outputs": [
        {
          "data": {
            "text/plain": [
              "['01810',\n",
              " '01830',\n",
              " '018801285',\n",
              " '019',\n",
              " '02',\n",
              " '020',\n",
              " '0200',\n",
              " '020347',\n",
              " '0205',\n",
              " '020533',\n",
              " '020555',\n",
              " '020646',\n",
              " '02086551',\n",
              " '02115',\n",
              " '02118',\n",
              " '02138',\n",
              " '02139',\n",
              " '02142',\n",
              " '02154',\n",
              " '0216']"
            ]
          },
          "execution_count": 18,
          "metadata": {},
          "output_type": "execute_result"
        }
      ],
      "source": [
        "vocabVect.get_feature_names()[100:120]"
      ]
    },
    {
      "cell_type": "code",
      "execution_count": null,
      "metadata": {
        "id": "2_UBitMgQT_E"
      },
      "outputs": [],
      "source": [
        "def VectorizeAndClassify(vectorizers_list, classifiers_list):\n",
        "    for v in vectorizers_list:\n",
        "        for c in classifiers_list:\n",
        "            pipeline1 = Pipeline([(\"vectorizer\", v), (\"classifier\", c)])\n",
        "            score = cross_val_score(pipeline1, newsgroups['data'], newsgroups['target'], scoring='accuracy', cv=3).mean()\n",
        "            print('Векторизация - {}'.format(v))\n",
        "            print('Модель для классификации - {}'.format(c))\n",
        "            print('Accuracy = {}'.format(score))\n",
        "            print('===========================')"
      ]
    },
    {
      "cell_type": "code",
      "execution_count": null,
      "metadata": {
        "id": "8wcuOpb7QT_F",
        "outputId": "e34b7fc4-1ff1-4e8a-bd7c-052866ff1257"
      },
      "outputs": [
        {
          "name": "stderr",
          "output_type": "stream",
          "text": [
            "/anaconda3/lib/python3.6/site-packages/sklearn/linear_model/logistic.py:433: FutureWarning: Default solver will be changed to 'lbfgs' in 0.22. Specify a solver to silence this warning.\n",
            "  FutureWarning)\n",
            "/anaconda3/lib/python3.6/site-packages/sklearn/linear_model/logistic.py:460: FutureWarning: Default multi_class will be changed to 'auto' in 0.22. Specify the multi_class option to silence this warning.\n",
            "  \"this warning.\", FutureWarning)\n"
          ]
        },
        {
          "name": "stdout",
          "output_type": "stream",
          "text": [
            "Векторизация - CountVectorizer(analyzer='word', binary=False, decode_error='strict',\n",
            "        dtype=<class 'numpy.int64'>, encoding='utf-8', input='content',\n",
            "        lowercase=True, max_df=1.0, max_features=None, min_df=1,\n",
            "        ngram_range=(1, 1), preprocessor=None, stop_words=None,\n",
            "        strip_accents=None, token_pattern='(?u)\\\\b\\\\w\\\\w+\\\\b',\n",
            "        tokenizer=None,\n",
            "        vocabulary={'from': 14399, 'nrmendel': 22213, 'unix': 31462, 'amherst': 5287, 'edu': 12444, 'nathaniel': 21624, 'mendell': 20477, 'subject': 29220, 're': 25369, 'bike': 6898, 'advice': 4864, 'organization': 22734, 'college': 9353, 'newsreader': 21886, 'tin': 30443, 'version': 31994, 'pl7': 23928, 'l...105, 'intents': 17321, 'sypmtoms': 29717, 'focussed': 14098, 'emotionally': 12715, 'advising': 4869})\n",
            "Модель для классификации - LogisticRegression(C=1.0, class_weight=None, dual=False, fit_intercept=True,\n",
            "          intercept_scaling=1, max_iter=100, multi_class='warn',\n",
            "          n_jobs=None, penalty='l2', random_state=None, solver='warn',\n",
            "          tol=0.0001, verbose=0, warm_start=False)\n",
            "Accuracy = 0.9474775613232068\n",
            "===========================\n",
            "Векторизация - CountVectorizer(analyzer='word', binary=False, decode_error='strict',\n",
            "        dtype=<class 'numpy.int64'>, encoding='utf-8', input='content',\n",
            "        lowercase=True, max_df=1.0, max_features=None, min_df=1,\n",
            "        ngram_range=(1, 1), preprocessor=None, stop_words=None,\n",
            "        strip_accents=None, token_pattern='(?u)\\\\b\\\\w\\\\w+\\\\b',\n",
            "        tokenizer=None,\n",
            "        vocabulary={'from': 14399, 'nrmendel': 22213, 'unix': 31462, 'amherst': 5287, 'edu': 12444, 'nathaniel': 21624, 'mendell': 20477, 'subject': 29220, 're': 25369, 'bike': 6898, 'advice': 4864, 'organization': 22734, 'college': 9353, 'newsreader': 21886, 'tin': 30443, 'version': 31994, 'pl7': 23928, 'l...105, 'intents': 17321, 'sypmtoms': 29717, 'focussed': 14098, 'emotionally': 12715, 'advising': 4869})\n",
            "Модель для классификации - MultinomialNB(alpha=1.0, class_prior=None, fit_prior=True)\n",
            "Accuracy = 0.9747904364702481\n",
            "===========================\n"
          ]
        },
        {
          "name": "stderr",
          "output_type": "stream",
          "text": [
            "/anaconda3/lib/python3.6/site-packages/sklearn/linear_model/logistic.py:433: FutureWarning: Default solver will be changed to 'lbfgs' in 0.22. Specify a solver to silence this warning.\n",
            "  FutureWarning)\n",
            "/anaconda3/lib/python3.6/site-packages/sklearn/linear_model/logistic.py:460: FutureWarning: Default multi_class will be changed to 'auto' in 0.22. Specify the multi_class option to silence this warning.\n",
            "  \"this warning.\", FutureWarning)\n"
          ]
        },
        {
          "name": "stdout",
          "output_type": "stream",
          "text": [
            "Векторизация - TfidfVectorizer(analyzer='word', binary=False, decode_error='strict',\n",
            "        dtype=<class 'numpy.float64'>, encoding='utf-8', input='content',\n",
            "        lowercase=True, max_df=1.0, max_features=None, min_df=1,\n",
            "        ngram_range=(1, 1), norm='l2', preprocessor=None, smooth_idf=True,\n",
            "        stop_words=None, strip_accents=None, sublinear_tf=False,\n",
            "        token_pattern='(?u)\\\\b\\\\w\\\\w+\\\\b', tokenizer=None, use_idf=True,\n",
            "        vocabulary={'from': 14399, 'nrmendel': 22213, 'unix': 31462, 'amherst': 5287, 'edu': 12444, 'nathaniel': 21624, 'mendell': 20477, 'subject': 29220, 're': 25369, 'bike': 6898, 'advice': 4864, 'organization': 22734, 'college': 9353, 'newsreader': 21886, 'tin': 30443, 'version': 31994, 'pl7': 23928, 'l...105, 'intents': 17321, 'sypmtoms': 29717, 'focussed': 14098, 'emotionally': 12715, 'advising': 4869})\n",
            "Модель для классификации - LogisticRegression(C=1.0, class_weight=None, dual=False, fit_intercept=True,\n",
            "          intercept_scaling=1, max_iter=100, multi_class='warn',\n",
            "          n_jobs=None, penalty='l2', random_state=None, solver='warn',\n",
            "          tol=0.0001, verbose=0, warm_start=False)\n",
            "Accuracy = 0.9567272619467359\n",
            "===========================\n",
            "Векторизация - TfidfVectorizer(analyzer='word', binary=False, decode_error='strict',\n",
            "        dtype=<class 'numpy.float64'>, encoding='utf-8', input='content',\n",
            "        lowercase=True, max_df=1.0, max_features=None, min_df=1,\n",
            "        ngram_range=(1, 1), norm='l2', preprocessor=None, smooth_idf=True,\n",
            "        stop_words=None, strip_accents=None, sublinear_tf=False,\n",
            "        token_pattern='(?u)\\\\b\\\\w\\\\w+\\\\b', tokenizer=None, use_idf=True,\n",
            "        vocabulary={'from': 14399, 'nrmendel': 22213, 'unix': 31462, 'amherst': 5287, 'edu': 12444, 'nathaniel': 21624, 'mendell': 20477, 'subject': 29220, 're': 25369, 'bike': 6898, 'advice': 4864, 'organization': 22734, 'college': 9353, 'newsreader': 21886, 'tin': 30443, 'version': 31994, 'pl7': 23928, 'l...105, 'intents': 17321, 'sypmtoms': 29717, 'focussed': 14098, 'emotionally': 12715, 'advising': 4869})\n",
            "Модель для классификации - MultinomialNB(alpha=1.0, class_prior=None, fit_prior=True)\n",
            "Accuracy = 0.9722710153812272\n",
            "===========================\n"
          ]
        }
      ],
      "source": [
        "vectorizers_list = [CountVectorizer(vocabulary = corpusVocab), TfidfVectorizer(vocabulary = corpusVocab)]\n",
        "classifiers_list = [LogisticRegression(), MultinomialNB()]\n",
        "VectorizeAndClassify(vectorizers_list, classifiers_list)"
      ]
    },
    {
      "cell_type": "markdown",
      "metadata": {
        "id": "JoFYb_FlQT_F"
      },
      "source": [
        "Лучшую точность показал CountVectorizer и MultinomialNB (Точность составила 97,4%)"
      ]
    },
    {
      "cell_type": "code",
      "execution_count": null,
      "metadata": {
        "id": "OjI8zqPqQT_G"
      },
      "outputs": [],
      "source": [
        ""
      ]
    }
  ],
  "metadata": {
    "kernelspec": {
      "display_name": "Python 3",
      "language": "python",
      "name": "python3"
    },
    "language_info": {
      "codemirror_mode": {
        "name": "ipython",
        "version": 3
      },
      "file_extension": ".py",
      "mimetype": "text/x-python",
      "name": "python",
      "nbconvert_exporter": "python",
      "pygments_lexer": "ipython3",
      "version": "3.6.4"
    },
    "colab": {
      "name": "ML2021_RK2.ipynb",
      "provenance": [],
      "collapsed_sections": []
    }
  },
  "nbformat": 4,
  "nbformat_minor": 0
}